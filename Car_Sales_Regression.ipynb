{
 "cells": [
  {
   "cell_type": "markdown",
   "id": "adbc7c24",
   "metadata": {},
   "source": [
    "# Car Sales - Regression ANN"
   ]
  },
  {
   "cell_type": "markdown",
   "id": "cb84607f",
   "metadata": {},
   "source": [
    "### by ReDay Zarra"
   ]
  },
  {
   "cell_type": "markdown",
   "id": "0345fce8",
   "metadata": {},
   "source": []
  },
  {
   "cell_type": "markdown",
   "id": "d5db0f6a",
   "metadata": {},
   "source": [
    "## Importing the necessary libraries"
   ]
  }
 ],
 "metadata": {
  "kernelspec": {
   "display_name": "Python 3 (ipykernel)",
   "language": "python",
   "name": "python3"
  },
  "language_info": {
   "codemirror_mode": {
    "name": "ipython",
    "version": 3
   },
   "file_extension": ".py",
   "mimetype": "text/x-python",
   "name": "python",
   "nbconvert_exporter": "python",
   "pygments_lexer": "ipython3",
   "version": "3.9.13"
  }
 },
 "nbformat": 4,
 "nbformat_minor": 5
}
