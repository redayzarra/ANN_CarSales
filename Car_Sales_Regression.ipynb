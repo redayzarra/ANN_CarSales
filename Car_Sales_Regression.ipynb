{
 "cells": [
  {
   "cell_type": "markdown",
   "id": "c22acf48",
   "metadata": {},
   "source": [
    "# Car Sales - Regression ANN"
   ]
  },
  {
   "cell_type": "markdown",
   "id": "86f7880d",
   "metadata": {},
   "source": [
    "### by ReDay Zarra"
   ]
  },
  {
   "cell_type": "markdown",
   "id": "3993800d",
   "metadata": {},
   "source": [
    "This project utilizes an **artificial neural network to perform a regression task**, which means the model will predict a value based on the features. In this case, the model will have **eight features to predict the purchasing amount** for each customer.This project showcases a *step-by-step implementation* of the model as well as *in-depth notes* to customize the model further for higher accuracy."
   ]
  },
  {
   "cell_type": "markdown",
   "id": "8c9b4dce",
   "metadata": {},
   "source": [
    "## Importing the necessary libraries"
   ]
  }
 ],
 "metadata": {
  "kernelspec": {
   "display_name": "Python 3 (ipykernel)",
   "language": "python",
   "name": "python3"
  },
  "language_info": {
   "codemirror_mode": {
    "name": "ipython",
    "version": 3
   },
   "file_extension": ".py",
   "mimetype": "text/x-python",
   "name": "python",
   "nbconvert_exporter": "python",
   "pygments_lexer": "ipython3",
   "version": "3.9.13"
  }
 },
 "nbformat": 4,
 "nbformat_minor": 5
}
