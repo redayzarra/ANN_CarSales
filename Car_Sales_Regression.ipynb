{
 "cells": [
  {
   "cell_type": "markdown",
   "id": "e5638e66",
   "metadata": {},
   "source": [
    "# Car Sales - Regression ANN"
   ]
  },
  {
   "cell_type": "markdown",
   "id": "85e893e3",
   "metadata": {},
   "source": [
    "### by ReDay Zarra"
   ]
  },
  {
   "cell_type": "markdown",
   "id": "4233b550",
   "metadata": {},
   "source": [
    "This project utilizes an **artificial neural network to perform a regression task**, which means the model will predict a value based on the features. In this case, the model will have **eight features to predict the purchasing amount** for each customer.This project showcases a *step-by-step implementation* of the model as well as *in-depth notes* to customize the model further for higher accuracy."
   ]
  },
  {
   "cell_type": "markdown",
   "id": "84613219",
   "metadata": {},
   "source": [
    "## Importing the necessary libraries"
   ]
  },
  {
   "cell_type": "code",
   "execution_count": 2,
   "id": "ea4b39ea",
   "metadata": {},
   "outputs": [],
   "source": [
    "import pandas as pd\n",
    "import numpy as np"
   ]
  },
  {
   "cell_type": "markdown",
   "id": "0c7409fb",
   "metadata": {},
   "source": [
    "> Classic libraries that will help us read and analyze data"
   ]
  },
  {
   "cell_type": "code",
   "execution_count": 1,
   "id": "209cefcc",
   "metadata": {},
   "outputs": [],
   "source": [
    "import matplotlib.pyplot as plt\n",
    "import seaborn"
   ]
  },
  {
   "cell_type": "markdown",
   "id": "4650872c",
   "metadata": {},
   "source": [
    "> Libraries used for plotting and data visualization"
   ]
  }
 ],
 "metadata": {
  "kernelspec": {
   "display_name": "Python 3 (ipykernel)",
   "language": "python",
   "name": "python3"
  },
  "language_info": {
   "codemirror_mode": {
    "name": "ipython",
    "version": 3
   },
   "file_extension": ".py",
   "mimetype": "text/x-python",
   "name": "python",
   "nbconvert_exporter": "python",
   "pygments_lexer": "ipython3",
   "version": "3.9.13"
  }
 },
 "nbformat": 4,
 "nbformat_minor": 5
}
